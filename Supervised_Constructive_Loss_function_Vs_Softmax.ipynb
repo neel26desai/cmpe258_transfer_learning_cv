{
  "nbformat": 4,
  "nbformat_minor": 0,
  "metadata": {
    "colab": {
      "provenance": [],
      "gpuType": "T4",
      "authorship_tag": "ABX9TyNVHtFzs51ca2ZTwj1BGHtU",
      "include_colab_link": true
    },
    "kernelspec": {
      "name": "python3",
      "display_name": "Python 3"
    },
    "language_info": {
      "name": "python"
    },
    "accelerator": "GPU"
  },
  "cells": [
    {
      "cell_type": "markdown",
      "metadata": {
        "id": "view-in-github",
        "colab_type": "text"
      },
      "source": [
        "<a href=\"https://colab.research.google.com/github/neel26desai/cmpe258_transfer_learning_cv/blob/main/Supervised_Constructive_Loss_function_Vs_Softmax.ipynb\" target=\"_parent\"><img src=\"https://colab.research.google.com/assets/colab-badge.svg\" alt=\"Open In Colab\"/></a>"
      ]
    },
    {
      "cell_type": "code",
      "source": [
        "!pip install tensorflow-addons\n"
      ],
      "metadata": {
        "colab": {
          "base_uri": "https://localhost:8080/"
        },
        "id": "ylD6_yHAH5iV",
        "outputId": "749a257f-afcd-4886-8032-714074ada705"
      },
      "execution_count": 39,
      "outputs": [
        {
          "output_type": "stream",
          "name": "stdout",
          "text": [
            "Requirement already satisfied: tensorflow-addons in /usr/local/lib/python3.10/dist-packages (0.23.0)\n",
            "Requirement already satisfied: packaging in /usr/local/lib/python3.10/dist-packages (from tensorflow-addons) (24.0)\n",
            "Requirement already satisfied: typeguard<3.0.0,>=2.7 in /usr/local/lib/python3.10/dist-packages (from tensorflow-addons) (2.13.3)\n"
          ]
        }
      ]
    },
    {
      "cell_type": "code",
      "source": [
        "import tensorflow as tf\n",
        "import tensorflow_addons as tfa\n",
        "import numpy as np\n",
        "from tensorflow import keras\n",
        "from tensorflow.keras import layers"
      ],
      "metadata": {
        "id": "tLtE5IsHH5e8"
      },
      "execution_count": 40,
      "outputs": []
    },
    {
      "cell_type": "markdown",
      "source": [
        "Prepare data"
      ],
      "metadata": {
        "id": "jv_EcDCuIFmt"
      }
    },
    {
      "cell_type": "code",
      "source": [
        "num_classes = 10\n",
        "input_shape = (32, 32, 3)\n",
        "\n",
        "\n",
        "# Load the train and test data splits\n",
        "(x_train, y_train), (x_test, y_test) = keras.datasets.cifar10.load_data()\n",
        "\n",
        "# Display shapes of train and test datasets\n",
        "print(f\"x_train shape: {x_train.shape} - y_train shape: {y_train.shape}\")\n",
        "print(f\"x_test shape: {x_test.shape} - y_test shape: {y_test.shape}\")\n"
      ],
      "metadata": {
        "colab": {
          "base_uri": "https://localhost:8080/"
        },
        "id": "4ayrSz6YH5cG",
        "outputId": "90a641d0-114a-4461-fe60-6b56b9e7168b"
      },
      "execution_count": 51,
      "outputs": [
        {
          "output_type": "stream",
          "name": "stdout",
          "text": [
            "Downloading data from https://www.cs.toronto.edu/~kriz/cifar-10-python.tar.gz\n",
            "170498071/170498071 [==============================] - 2s 0us/step\n",
            "x_train shape: (50000, 32, 32, 3) - y_train shape: (50000, 1)\n",
            "x_test shape: (10000, 32, 32, 3) - y_test shape: (10000, 1)\n"
          ]
        }
      ]
    },
    {
      "cell_type": "markdown",
      "source": [
        "## Using Image data augmentation"
      ],
      "metadata": {
        "id": "UGun6DaIIylw"
      }
    },
    {
      "cell_type": "code",
      "source": [
        "data_augmentation = keras.Sequential(\n",
        "    [\n",
        "        layers.Normalization(),\n",
        "        layers.RandomFlip(\"horizontal\"),\n",
        "        layers.RandomRotation(0.02),\n",
        "    ]\n",
        ")\n",
        "\n",
        "# Setting the state of the normalization layer.\n",
        "data_augmentation.layers[0].adapt(x_train)"
      ],
      "metadata": {
        "id": "agB4vmcXH5Zg"
      },
      "execution_count": 53,
      "outputs": []
    },
    {
      "cell_type": "markdown",
      "source": [
        "### Build encoder model"
      ],
      "metadata": {
        "id": "J_HeWWmrI2zm"
      }
    },
    {
      "cell_type": "code",
      "source": [
        "def create_encoder():\n",
        "    resnet = keras.applications.ResNet50V2(\n",
        "        include_top=False, weights=None, input_shape=input_shape, pooling=\"avg\"\n",
        "    )\n",
        "\n",
        "    inputs = keras.Input(shape=input_shape)\n",
        "    augmented = data_augmentation(inputs)\n",
        "    outputs = resnet(augmented)\n",
        "    model = keras.Model(inputs=inputs, outputs=outputs, name=\"cifar10-encoder\")\n",
        "    return model\n",
        "\n",
        "\n",
        "encoder = create_encoder()\n",
        "encoder.summary()\n",
        "\n",
        "learning_rate = 0.001\n",
        "batch_size = 265\n",
        "hidden_units = 512\n",
        "projection_units = 128\n",
        "num_epochs = 10\n",
        "dropout_rate = 0.5\n",
        "temperature = 0.05"
      ],
      "metadata": {
        "colab": {
          "base_uri": "https://localhost:8080/"
        },
        "id": "b21SG5-bH5Ww",
        "outputId": "80363caf-898b-4995-c2a0-1b21f21e9a69"
      },
      "execution_count": 54,
      "outputs": [
        {
          "output_type": "stream",
          "name": "stdout",
          "text": [
            "Model: \"cifar10-encoder\"\n",
            "_________________________________________________________________\n",
            " Layer (type)                Output Shape              Param #   \n",
            "=================================================================\n",
            " input_2 (InputLayer)        [(None, 32, 32, 3)]       0         \n",
            "                                                                 \n",
            " sequential_8 (Sequential)   (None, 32, 32, 3)         7         \n",
            "                                                                 \n",
            " resnet50v2 (Functional)     (None, 2048)              23564800  \n",
            "                                                                 \n",
            "=================================================================\n",
            "Total params: 23564807 (89.89 MB)\n",
            "Trainable params: 23519360 (89.72 MB)\n",
            "Non-trainable params: 45447 (177.53 KB)\n",
            "_________________________________________________________________\n"
          ]
        }
      ]
    },
    {
      "cell_type": "markdown",
      "source": [
        "### Build Classification Model"
      ],
      "metadata": {
        "id": "MX-6BHt_JdVM"
      }
    },
    {
      "cell_type": "code",
      "source": [
        "def create_classifier(encoder, trainable=True):\n",
        "    #this will let use control if we want to find tune the encoder model layers or mo\n",
        "    for layer in encoder.layers:\n",
        "        layer.trainable = trainable\n",
        "\n",
        "    inputs = keras.Input(shape=input_shape)\n",
        "    features = encoder(inputs)\n",
        "    features = layers.Dropout(dropout_rate)(features)\n",
        "    features = layers.Dense(hidden_units, activation=\"relu\")(features)\n",
        "    features = layers.Dropout(dropout_rate)(features)\n",
        "    outputs = layers.Dense(num_classes, activation=\"softmax\")(features)\n",
        "\n",
        "    model = keras.Model(inputs=inputs, outputs=outputs, name=\"cifar10-classifier\")\n",
        "    model.compile(\n",
        "        optimizer=keras.optimizers.Adam(learning_rate),\n",
        "        loss=keras.losses.SparseCategoricalCrossentropy(),\n",
        "        metrics=[keras.metrics.SparseCategoricalAccuracy()],\n",
        "    )\n",
        "    return model"
      ],
      "metadata": {
        "id": "xneVUzQhH5UI"
      },
      "execution_count": 55,
      "outputs": []
    },
    {
      "cell_type": "markdown",
      "source": [
        "#Baseline Classification"
      ],
      "metadata": {
        "id": "5wAff3TMJvMH"
      }
    },
    {
      "cell_type": "code",
      "source": [
        "encoder = create_encoder()\n",
        "classifier = create_classifier(encoder)\n",
        "classifier.summary()\n",
        "\n",
        "history = classifier.fit(x=x_train, y=y_train, batch_size=batch_size, epochs=num_epochs)\n",
        "\n",
        "accuracy = classifier.evaluate(x_test, y_test)[1]\n",
        "print(f\"Test accuracy: {round(accuracy * 100, 2)}%\")"
      ],
      "metadata": {
        "colab": {
          "base_uri": "https://localhost:8080/"
        },
        "id": "q2MCTfDHH5Rd",
        "outputId": "adca22ec-da3b-44d8-9336-a36551ee52f8"
      },
      "execution_count": 59,
      "outputs": [
        {
          "output_type": "stream",
          "name": "stdout",
          "text": [
            "Model: \"cifar10-classifier\"\n",
            "_________________________________________________________________\n",
            " Layer (type)                Output Shape              Param #   \n",
            "=================================================================\n",
            " input_8 (InputLayer)        [(None, 32, 32, 3)]       0         \n",
            "                                                                 \n",
            " cifar10-encoder (Functiona  (None, 2048)              23564807  \n",
            " l)                                                              \n",
            "                                                                 \n",
            " dropout_2 (Dropout)         (None, 2048)              0         \n",
            "                                                                 \n",
            " dense_18 (Dense)            (None, 512)               1049088   \n",
            "                                                                 \n",
            " dropout_3 (Dropout)         (None, 512)               0         \n",
            "                                                                 \n",
            " dense_19 (Dense)            (None, 10)                5130      \n",
            "                                                                 \n",
            "=================================================================\n",
            "Total params: 24619025 (93.91 MB)\n",
            "Trainable params: 24573578 (93.74 MB)\n",
            "Non-trainable params: 45447 (177.53 KB)\n",
            "_________________________________________________________________\n",
            "Epoch 1/10\n",
            "189/189 [==============================] - 49s 130ms/step - loss: 1.8588 - sparse_categorical_accuracy: 0.3265\n",
            "Epoch 2/10\n",
            "189/189 [==============================] - 19s 99ms/step - loss: 1.4290 - sparse_categorical_accuracy: 0.4845\n",
            "Epoch 3/10\n",
            "189/189 [==============================] - 19s 98ms/step - loss: 1.2508 - sparse_categorical_accuracy: 0.5608\n",
            "Epoch 4/10\n",
            "189/189 [==============================] - 18s 98ms/step - loss: 1.1377 - sparse_categorical_accuracy: 0.6040\n",
            "Epoch 5/10\n",
            "189/189 [==============================] - 18s 98ms/step - loss: 1.0209 - sparse_categorical_accuracy: 0.6464\n",
            "Epoch 6/10\n",
            "189/189 [==============================] - 19s 99ms/step - loss: 0.9624 - sparse_categorical_accuracy: 0.6672\n",
            "Epoch 7/10\n",
            "189/189 [==============================] - 19s 98ms/step - loss: 0.8690 - sparse_categorical_accuracy: 0.7005\n",
            "Epoch 8/10\n",
            "189/189 [==============================] - 19s 98ms/step - loss: 0.7812 - sparse_categorical_accuracy: 0.7329\n",
            "Epoch 9/10\n",
            "189/189 [==============================] - 19s 98ms/step - loss: 0.7936 - sparse_categorical_accuracy: 0.7292\n",
            "Epoch 10/10\n",
            "189/189 [==============================] - 19s 98ms/step - loss: 0.7191 - sparse_categorical_accuracy: 0.7551\n",
            "313/313 [==============================] - 6s 14ms/step - loss: 0.8923 - sparse_categorical_accuracy: 0.7052\n",
            "Test accuracy: 70.52%\n"
          ]
        }
      ]
    },
    {
      "cell_type": "markdown",
      "source": [
        "#Supervised contrastive learning loss function"
      ],
      "metadata": {
        "id": "2-TP4mqjLJgW"
      }
    },
    {
      "cell_type": "code",
      "source": [
        "class SupervisedContrastiveLoss(keras.losses.Loss):\n",
        "    def __init__(self, temperature=1, name=None):\n",
        "        super().__init__(name=name)\n",
        "        self.temperature = temperature\n",
        "\n",
        "    def __call__(self, labels, feature_vectors, sample_weight=None):\n",
        "        # Normalize feature vectors\n",
        "        feature_vectors_normalized = tf.math.l2_normalize(feature_vectors, axis=1)\n",
        "        # Compute logits\n",
        "        logits = tf.divide(\n",
        "            tf.matmul(\n",
        "                feature_vectors_normalized, tf.transpose(feature_vectors_normalized)\n",
        "            ),\n",
        "            self.temperature,\n",
        "        )\n",
        "        return tfa.losses.npairs_loss(tf.squeeze(labels), logits)\n",
        "\n",
        "\n",
        "def add_projection_head(encoder):\n",
        "    inputs = keras.Input(shape=input_shape)\n",
        "    features = encoder(inputs)\n",
        "    outputs = layers.Dense(projection_units, activation=\"relu\")(features)\n",
        "    model = keras.Model(\n",
        "        inputs=inputs, outputs=outputs, name=\"cifar-encoder_with_projection-head\"\n",
        "    )\n",
        "    return model"
      ],
      "metadata": {
        "id": "XQcx1khpH5Os"
      },
      "execution_count": 60,
      "outputs": []
    },
    {
      "cell_type": "markdown",
      "source": [
        "Pretrain the encoder"
      ],
      "metadata": {
        "id": "SPEcMM9wMNd_"
      }
    },
    {
      "cell_type": "code",
      "source": [
        "encoder = create_encoder()\n",
        "\n",
        "encoder_with_projection_head = add_projection_head(encoder)\n",
        "encoder_with_projection_head.compile(\n",
        "    optimizer=keras.optimizers.Adam(learning_rate),\n",
        "    loss=SupervisedContrastiveLoss(temperature),\n",
        ")\n",
        "\n",
        "encoder_with_projection_head.summary()\n",
        "\n",
        "history2 = encoder_with_projection_head.fit(\n",
        "    x=x_train, y=y_train, batch_size=batch_size, epochs=num_epochs\n",
        ")"
      ],
      "metadata": {
        "colab": {
          "base_uri": "https://localhost:8080/"
        },
        "id": "D2HLzNa1H5Lv",
        "outputId": "05827c2c-8289-498f-939d-be447f0f1725"
      },
      "execution_count": 61,
      "outputs": [
        {
          "output_type": "stream",
          "name": "stdout",
          "text": [
            "Model: \"cifar-encoder_with_projection-head\"\n",
            "_________________________________________________________________\n",
            " Layer (type)                Output Shape              Param #   \n",
            "=================================================================\n",
            " input_11 (InputLayer)       [(None, 32, 32, 3)]       0         \n",
            "                                                                 \n",
            " cifar10-encoder (Functiona  (None, 2048)              23564807  \n",
            " l)                                                              \n",
            "                                                                 \n",
            " dense_20 (Dense)            (None, 128)               262272    \n",
            "                                                                 \n",
            "=================================================================\n",
            "Total params: 23827079 (90.89 MB)\n",
            "Trainable params: 23781632 (90.72 MB)\n",
            "Non-trainable params: 45447 (177.53 KB)\n",
            "_________________________________________________________________\n",
            "Epoch 1/10\n",
            "189/189 [==============================] - 42s 97ms/step - loss: 5.3239\n",
            "Epoch 2/10\n",
            "189/189 [==============================] - 19s 99ms/step - loss: 5.0617\n",
            "Epoch 3/10\n",
            "189/189 [==============================] - 19s 98ms/step - loss: 4.9170\n",
            "Epoch 4/10\n",
            "189/189 [==============================] - 19s 102ms/step - loss: 4.7902\n",
            "Epoch 5/10\n",
            "189/189 [==============================] - 19s 100ms/step - loss: 4.6829\n",
            "Epoch 6/10\n",
            "189/189 [==============================] - 18s 97ms/step - loss: 4.6015\n",
            "Epoch 7/10\n",
            "189/189 [==============================] - 19s 99ms/step - loss: 4.5205\n",
            "Epoch 8/10\n",
            "189/189 [==============================] - 18s 98ms/step - loss: 4.4447\n",
            "Epoch 9/10\n",
            "189/189 [==============================] - 18s 98ms/step - loss: 4.3827\n",
            "Epoch 10/10\n",
            "189/189 [==============================] - 18s 97ms/step - loss: 4.3304\n"
          ]
        }
      ]
    },
    {
      "cell_type": "markdown",
      "source": [
        "Train the classifier with the frozen encoder"
      ],
      "metadata": {
        "id": "bG15O7Q4MquU"
      }
    },
    {
      "cell_type": "code",
      "source": [
        "classifier = create_classifier(encoder, trainable=False)\n",
        "\n",
        "history3 = classifier.fit(x=x_train, y=y_train, batch_size=batch_size, epochs=num_epochs)\n",
        "\n",
        "accuracy = classifier.evaluate(x_test, y_test)[1]\n",
        "print(f\"Test accuracy: {round(accuracy * 100, 2)}%\")"
      ],
      "metadata": {
        "colab": {
          "base_uri": "https://localhost:8080/"
        },
        "id": "EiOLlmGnH5JO",
        "outputId": "11d0e1b0-e21f-4822-b5ab-e7543883fdcf"
      },
      "execution_count": 62,
      "outputs": [
        {
          "output_type": "stream",
          "name": "stdout",
          "text": [
            "Epoch 1/10\n",
            "189/189 [==============================] - 9s 26ms/step - loss: 0.7910 - sparse_categorical_accuracy: 0.7618\n",
            "Epoch 2/10\n",
            "189/189 [==============================] - 5s 27ms/step - loss: 0.6887 - sparse_categorical_accuracy: 0.7752\n",
            "Epoch 3/10\n",
            "189/189 [==============================] - 5s 26ms/step - loss: 0.6686 - sparse_categorical_accuracy: 0.7817\n",
            "Epoch 4/10\n",
            "189/189 [==============================] - 5s 26ms/step - loss: 0.6672 - sparse_categorical_accuracy: 0.7806\n",
            "Epoch 5/10\n",
            "189/189 [==============================] - 5s 28ms/step - loss: 0.6676 - sparse_categorical_accuracy: 0.7819\n",
            "Epoch 6/10\n",
            "189/189 [==============================] - 5s 27ms/step - loss: 0.6602 - sparse_categorical_accuracy: 0.7821\n",
            "Epoch 7/10\n",
            "189/189 [==============================] - 5s 27ms/step - loss: 0.6544 - sparse_categorical_accuracy: 0.7842\n",
            "Epoch 8/10\n",
            "189/189 [==============================] - 5s 26ms/step - loss: 0.6605 - sparse_categorical_accuracy: 0.7821\n",
            "Epoch 9/10\n",
            "189/189 [==============================] - 5s 27ms/step - loss: 0.6565 - sparse_categorical_accuracy: 0.7832\n",
            "Epoch 10/10\n",
            "189/189 [==============================] - 5s 27ms/step - loss: 0.6529 - sparse_categorical_accuracy: 0.7835\n",
            "313/313 [==============================] - 4s 10ms/step - loss: 0.8319 - sparse_categorical_accuracy: 0.7265\n",
            "Test accuracy: 72.65%\n"
          ]
        }
      ]
    },
    {
      "cell_type": "code",
      "source": [
        "# Plot the accuracy curves for both models\n",
        "import matplotlib.pyplot as plt\n",
        "\n",
        "plt.plot(history.history[\"sparse_categorical_accuracy\"], label=\"Baseline Classification\")\n",
        "plt.plot(history3.history[\"sparse_categorical_accuracy\"], label=\"Supervised Constructvtive Learning\")\n",
        "plt.title(\"Comparison of Classification Accuracy\")\n",
        "plt.xlabel(\"Epoch\")\n",
        "plt.ylabel(\"Accuracy\")\n",
        "plt.legend()\n",
        "plt.show()\n",
        "\n"
      ],
      "metadata": {
        "colab": {
          "base_uri": "https://localhost:8080/",
          "height": 472
        },
        "id": "gyVR6tz7H5HH",
        "outputId": "fb13b50d-37f9-4dad-d796-08eb8cfe908e"
      },
      "execution_count": 65,
      "outputs": [
        {
          "output_type": "display_data",
          "data": {
            "text/plain": [
              "<Figure size 640x480 with 1 Axes>"
            ],
            "image/png": "[encoded data removed]"
          },
          "metadata": {}
        }
      ]
    },
    {
      "cell_type": "markdown",
      "source": [
        "We can see that we use Supervised Constructive loss the starting and over all accuracy is much higher then out base case of using just the softmax layer."
      ],
      "metadata": {
        "id": "_m-wuoIXS3cJ"
      }
    },
    {
      "cell_type": "code",
      "source": [
        "import matplotlib.pyplot as plt\n",
        "plt.plot(history.history['loss'], label='Baseline Classification')\n",
        "plt.plot(history3.history['loss'], label='Supervised Constructive Learning')\n",
        "plt.title('Comparison of Loss Values')\n",
        "plt.xlabel('Epoch')\n",
        "plt.ylabel('Loss')\n",
        "plt.legend()\n",
        "plt.show()\n"
      ],
      "metadata": {
        "colab": {
          "base_uri": "https://localhost:8080/",
          "height": 472
        },
        "id": "GiVfjDwbH5D2",
        "outputId": "e3183d69-b301-4c52-f807-0258badf563a"
      },
      "execution_count": 66,
      "outputs": [
        {
          "output_type": "display_data",
          "data": {
            "text/plain": [
              "<Figure size 640x480 with 1 Axes>"
            ],
            "image/png": "[encoded data removed]"
          },
          "metadata": {}
        }
      ]
    },
    {
      "cell_type": "markdown",
      "source": [
        "Reference:\n",
        "\n",
        "1. https://keras.io/examples/vision/supervised-contrastive-learning/"
      ],
      "metadata": {
        "id": "ECUFJ-B0HmWE"
      }
    },
    {
      "cell_type": "code",
      "source": [],
      "metadata": {
        "id": "bCEnIlrZHr2i"
      },
      "execution_count": null,
      "outputs": []
    }
  ]
}